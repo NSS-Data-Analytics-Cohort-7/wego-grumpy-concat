{
 "cells": [
  {
   "cell_type": "markdown",
   "id": "bb171367",
   "metadata": {},
   "source": [
    "# Question 8: Does weather have any effect on headway or on-time performance? To help answer this question, the file bna_2022.csv contains historical weather data recorded at Nashville International Airport."
   ]
  },
  {
   "cell_type": "code",
   "execution_count": 1,
   "id": "9c8af787",
   "metadata": {},
   "outputs": [],
   "source": [
    "import numpy as np\n",
    "import pandas as pd\n",
    "import matplotlib.pyplot as plt\n",
    "import seaborn as sns"
   ]
  },
  {
   "cell_type": "code",
   "execution_count": 2,
   "id": "7d64d734",
   "metadata": {},
   "outputs": [],
   "source": [
    "headway = pd.read_csv('../Data/Headway Data.csv')"
   ]
  },
  {
   "cell_type": "code",
   "execution_count": 3,
   "id": "cf765f56",
   "metadata": {},
   "outputs": [],
   "source": [
    "weather = pd.read_csv('../Data/bna_weather.csv')"
   ]
  },
  {
   "cell_type": "markdown",
   "id": "be020299",
   "metadata": {},
   "source": [
    "stripped hour from data column to merge the two datasets"
   ]
  },
  {
   "cell_type": "code",
   "execution_count": 4,
   "id": "d63d0f50",
   "metadata": {},
   "outputs": [],
   "source": [
    "headway['NEW_DATE']=headway.DATE\n",
    "headway['NEW_DATE']= pd.to_datetime(headway.NEW_DATE)\n",
    "headway['HOUR']=headway.SCHEDULED_TIME.str.slice(0,2).astype(str)"
   ]
  },
  {
   "cell_type": "code",
   "execution_count": 5,
   "id": "c9663741",
   "metadata": {},
   "outputs": [],
   "source": [
    "weather['HOUR']=weather.Date.str.slice(11,13).astype(str)\n",
    "weather['NEW_DATE']=weather.Date.str.slice(0,10).astype(str)\n",
    "weather['NEW_DATE']= pd.to_datetime(weather.NEW_DATE)"
   ]
  },
  {
   "cell_type": "code",
   "execution_count": 6,
   "id": "c8d095c3",
   "metadata": {},
   "outputs": [],
   "source": [
    "merge_df = headway.merge(weather, on=['NEW_DATE','HOUR'], how= \"left\")\n"
   ]
  },
  {
   "cell_type": "code",
   "execution_count": 7,
   "id": "acd80060",
   "metadata": {},
   "outputs": [],
   "source": [
    "merge_df = merge_df.drop_duplicates(['ADHERENCE_ID'])"
   ]
  },
  {
   "cell_type": "code",
   "execution_count": 8,
   "id": "c90a52a7",
   "metadata": {},
   "outputs": [],
   "source": [
    "merge_df['DEV_PERCENT'] = merge_df.HDWY_DEV/merge_df.SCHEDULED_HDWY * 100"
   ]
  },
  {
   "cell_type": "code",
   "execution_count": 9,
   "id": "aa52cc19",
   "metadata": {},
   "outputs": [],
   "source": [
    "df_drop = merge_df.dropna(subset=['DEV_PERCENT'])"
   ]
  },
  {
   "cell_type": "code",
   "execution_count": null,
   "id": "0482314a",
   "metadata": {},
   "outputs": [],
   "source": []
  },
  {
   "cell_type": "code",
   "execution_count": 13,
   "id": "e2a96aa7",
   "metadata": {},
   "outputs": [
    {
     "name": "stderr",
     "output_type": "stream",
     "text": [
      "C:\\Users\\Rebecca Wolfe\\AppData\\Local\\Temp\\ipykernel_11532\\1767982470.py:9: SettingWithCopyWarning: \n",
      "A value is trying to be set on a copy of a slice from a DataFrame.\n",
      "Try using .loc[row_indexer,col_indexer] = value instead\n",
      "\n",
      "See the caveats in the documentation: https://pandas.pydata.org/pandas-docs/stable/user_guide/indexing.html#returning-a-view-versus-a-copy\n",
      "  df_drop['BUNCH_GAP'] = df_drop['DEV_PERCENT'].map(BUNCH_GAP)\n"
     ]
    },
    {
     "data": {
      "text/html": [
       "<div>\n",
       "<style scoped>\n",
       "    .dataframe tbody tr th:only-of-type {\n",
       "        vertical-align: middle;\n",
       "    }\n",
       "\n",
       "    .dataframe tbody tr th {\n",
       "        vertical-align: top;\n",
       "    }\n",
       "\n",
       "    .dataframe thead th {\n",
       "        text-align: right;\n",
       "    }\n",
       "</style>\n",
       "<table border=\"1\" class=\"dataframe\">\n",
       "  <thead>\n",
       "    <tr style=\"text-align: right;\">\n",
       "      <th></th>\n",
       "      <th>CALENDAR_ID</th>\n",
       "      <th>SERVICE_ABBR</th>\n",
       "      <th>ADHERENCE_ID</th>\n",
       "      <th>DATE</th>\n",
       "      <th>ROUTE_ABBR</th>\n",
       "      <th>BLOCK_ABBR</th>\n",
       "      <th>OPERATOR</th>\n",
       "      <th>TRIP_ID</th>\n",
       "      <th>OVERLOAD_ID</th>\n",
       "      <th>ROUTE_DIRECTION_NAME</th>\n",
       "      <th>...</th>\n",
       "      <th>primary_wave_period</th>\n",
       "      <th>primary_wave_height</th>\n",
       "      <th>primary_swell_period</th>\n",
       "      <th>primary_swell_height</th>\n",
       "      <th>primary_swell_direction</th>\n",
       "      <th>secondary_swell_period</th>\n",
       "      <th>secondary_swell_height</th>\n",
       "      <th>secondary_swell_direction</th>\n",
       "      <th>DEV_PERCENT</th>\n",
       "      <th>BUNCH_GAP</th>\n",
       "    </tr>\n",
       "  </thead>\n",
       "  <tbody>\n",
       "    <tr>\n",
       "      <th>0</th>\n",
       "      <td>120211101</td>\n",
       "      <td>1</td>\n",
       "      <td>76447164</td>\n",
       "      <td>2021-11-01</td>\n",
       "      <td>7</td>\n",
       "      <td>1704</td>\n",
       "      <td>2088</td>\n",
       "      <td>297750</td>\n",
       "      <td>0</td>\n",
       "      <td>TO DOWNTOWN</td>\n",
       "      <td>...</td>\n",
       "      <td>NaN</td>\n",
       "      <td>NaN</td>\n",
       "      <td>NaN</td>\n",
       "      <td>NaN</td>\n",
       "      <td>NaN</td>\n",
       "      <td>NaN</td>\n",
       "      <td>NaN</td>\n",
       "      <td>NaN</td>\n",
       "      <td>14.166664</td>\n",
       "      <td>On Time</td>\n",
       "    </tr>\n",
       "    <tr>\n",
       "      <th>1</th>\n",
       "      <td>120211101</td>\n",
       "      <td>1</td>\n",
       "      <td>76447165</td>\n",
       "      <td>2021-11-01</td>\n",
       "      <td>7</td>\n",
       "      <td>1704</td>\n",
       "      <td>2088</td>\n",
       "      <td>297750</td>\n",
       "      <td>0</td>\n",
       "      <td>TO DOWNTOWN</td>\n",
       "      <td>...</td>\n",
       "      <td>NaN</td>\n",
       "      <td>NaN</td>\n",
       "      <td>NaN</td>\n",
       "      <td>NaN</td>\n",
       "      <td>NaN</td>\n",
       "      <td>NaN</td>\n",
       "      <td>NaN</td>\n",
       "      <td>NaN</td>\n",
       "      <td>23.809521</td>\n",
       "      <td>On Time</td>\n",
       "    </tr>\n",
       "    <tr>\n",
       "      <th>12</th>\n",
       "      <td>120211101</td>\n",
       "      <td>1</td>\n",
       "      <td>76447976</td>\n",
       "      <td>2021-11-01</td>\n",
       "      <td>22</td>\n",
       "      <td>2200</td>\n",
       "      <td>1352</td>\n",
       "      <td>298128</td>\n",
       "      <td>0</td>\n",
       "      <td>TO DOWNTOWN</td>\n",
       "      <td>...</td>\n",
       "      <td>NaN</td>\n",
       "      <td>NaN</td>\n",
       "      <td>NaN</td>\n",
       "      <td>NaN</td>\n",
       "      <td>NaN</td>\n",
       "      <td>NaN</td>\n",
       "      <td>NaN</td>\n",
       "      <td>NaN</td>\n",
       "      <td>-1.047620</td>\n",
       "      <td>On Time</td>\n",
       "    </tr>\n",
       "    <tr>\n",
       "      <th>13</th>\n",
       "      <td>120211101</td>\n",
       "      <td>1</td>\n",
       "      <td>76447977</td>\n",
       "      <td>2021-11-01</td>\n",
       "      <td>22</td>\n",
       "      <td>2200</td>\n",
       "      <td>1352</td>\n",
       "      <td>298128</td>\n",
       "      <td>0</td>\n",
       "      <td>TO DOWNTOWN</td>\n",
       "      <td>...</td>\n",
       "      <td>NaN</td>\n",
       "      <td>NaN</td>\n",
       "      <td>NaN</td>\n",
       "      <td>NaN</td>\n",
       "      <td>NaN</td>\n",
       "      <td>NaN</td>\n",
       "      <td>NaN</td>\n",
       "      <td>NaN</td>\n",
       "      <td>2.476189</td>\n",
       "      <td>On Time</td>\n",
       "    </tr>\n",
       "    <tr>\n",
       "      <th>14</th>\n",
       "      <td>120211101</td>\n",
       "      <td>1</td>\n",
       "      <td>76447978</td>\n",
       "      <td>2021-11-01</td>\n",
       "      <td>22</td>\n",
       "      <td>2200</td>\n",
       "      <td>1352</td>\n",
       "      <td>298128</td>\n",
       "      <td>0</td>\n",
       "      <td>TO DOWNTOWN</td>\n",
       "      <td>...</td>\n",
       "      <td>NaN</td>\n",
       "      <td>NaN</td>\n",
       "      <td>NaN</td>\n",
       "      <td>NaN</td>\n",
       "      <td>NaN</td>\n",
       "      <td>NaN</td>\n",
       "      <td>NaN</td>\n",
       "      <td>NaN</td>\n",
       "      <td>-6.777780</td>\n",
       "      <td>On Time</td>\n",
       "    </tr>\n",
       "  </tbody>\n",
       "</table>\n",
       "<p>5 rows × 80 columns</p>\n",
       "</div>"
      ],
      "text/plain": [
       "    CALENDAR_ID  SERVICE_ABBR  ADHERENCE_ID        DATE  ROUTE_ABBR  \\\n",
       "0     120211101             1      76447164  2021-11-01           7   \n",
       "1     120211101             1      76447165  2021-11-01           7   \n",
       "12    120211101             1      76447976  2021-11-01          22   \n",
       "13    120211101             1      76447977  2021-11-01          22   \n",
       "14    120211101             1      76447978  2021-11-01          22   \n",
       "\n",
       "    BLOCK_ABBR  OPERATOR  TRIP_ID  OVERLOAD_ID ROUTE_DIRECTION_NAME  ...  \\\n",
       "0         1704      2088   297750            0          TO DOWNTOWN  ...   \n",
       "1         1704      2088   297750            0          TO DOWNTOWN  ...   \n",
       "12        2200      1352   298128            0          TO DOWNTOWN  ...   \n",
       "13        2200      1352   298128            0          TO DOWNTOWN  ...   \n",
       "14        2200      1352   298128            0          TO DOWNTOWN  ...   \n",
       "\n",
       "   primary_wave_period  primary_wave_height  primary_swell_period  \\\n",
       "0                  NaN                  NaN                   NaN   \n",
       "1                  NaN                  NaN                   NaN   \n",
       "12                 NaN                  NaN                   NaN   \n",
       "13                 NaN                  NaN                   NaN   \n",
       "14                 NaN                  NaN                   NaN   \n",
       "\n",
       "    primary_swell_height  primary_swell_direction secondary_swell_period  \\\n",
       "0                    NaN                      NaN                    NaN   \n",
       "1                    NaN                      NaN                    NaN   \n",
       "12                   NaN                      NaN                    NaN   \n",
       "13                   NaN                      NaN                    NaN   \n",
       "14                   NaN                      NaN                    NaN   \n",
       "\n",
       "   secondary_swell_height secondary_swell_direction  DEV_PERCENT  BUNCH_GAP  \n",
       "0                     NaN                       NaN    14.166664    On Time  \n",
       "1                     NaN                       NaN    23.809521    On Time  \n",
       "12                    NaN                       NaN    -1.047620    On Time  \n",
       "13                    NaN                       NaN     2.476189    On Time  \n",
       "14                    NaN                       NaN    -6.777780    On Time  \n",
       "\n",
       "[5 rows x 80 columns]"
      ]
     },
     "execution_count": 13,
     "metadata": {},
     "output_type": "execute_result"
    }
   ],
   "source": [
    "def BUNCH_GAP(value):\n",
    "    if value >= 50:\n",
    "        return \"Gapped\"\n",
    "    elif value <= -50:\n",
    "        return \"Bunched\" \n",
    "    else:\n",
    "        return \"On Time\"\n",
    "\n",
    "df_drop['BUNCH_GAP'] = df_drop['DEV_PERCENT'].map(BUNCH_GAP)\n",
    "df_drop.head()"
   ]
  },
  {
   "cell_type": "code",
   "execution_count": 14,
   "id": "0ed696c5",
   "metadata": {},
   "outputs": [
    {
     "data": {
      "text/plain": [
       "On Time    1350769\n",
       "Gapped       86564\n",
       "Bunched      70014\n",
       "Name: BUNCH_GAP, dtype: int64"
      ]
     },
     "execution_count": 14,
     "metadata": {},
     "output_type": "execute_result"
    }
   ],
   "source": [
    "# totals after dropping null values from DEV_PERCENT column \n",
    "\n",
    "df_drop['BUNCH_GAP'].value_counts(dropna=False)"
   ]
  },
  {
   "cell_type": "code",
   "execution_count": 15,
   "id": "a8ce303e",
   "metadata": {},
   "outputs": [
    {
     "data": {
      "text/plain": [
       "On Time    0.896123\n",
       "Gapped     0.057428\n",
       "Bunched    0.046448\n",
       "Name: BUNCH_GAP, dtype: float64"
      ]
     },
     "execution_count": 15,
     "metadata": {},
     "output_type": "execute_result"
    }
   ],
   "source": [
    "# percentages\n",
    "\n",
    "df_drop['BUNCH_GAP'].value_counts(normalize=True)"
   ]
  },
  {
   "cell_type": "markdown",
   "id": "eaf94ab8",
   "metadata": {},
   "source": [
    "make a dataframe with just rain\n"
   ]
  },
  {
   "cell_type": "code",
   "execution_count": 19,
   "id": "3dd1682f",
   "metadata": {},
   "outputs": [
    {
     "data": {
      "text/html": [
       "<div>\n",
       "<style scoped>\n",
       "    .dataframe tbody tr th:only-of-type {\n",
       "        vertical-align: middle;\n",
       "    }\n",
       "\n",
       "    .dataframe tbody tr th {\n",
       "        vertical-align: top;\n",
       "    }\n",
       "\n",
       "    .dataframe thead th {\n",
       "        text-align: right;\n",
       "    }\n",
       "</style>\n",
       "<table border=\"1\" class=\"dataframe\">\n",
       "  <thead>\n",
       "    <tr style=\"text-align: right;\">\n",
       "      <th></th>\n",
       "      <th>CALENDAR_ID</th>\n",
       "      <th>SERVICE_ABBR</th>\n",
       "      <th>ADHERENCE_ID</th>\n",
       "      <th>DATE</th>\n",
       "      <th>ROUTE_ABBR</th>\n",
       "      <th>BLOCK_ABBR</th>\n",
       "      <th>OPERATOR</th>\n",
       "      <th>TRIP_ID</th>\n",
       "      <th>OVERLOAD_ID</th>\n",
       "      <th>ROUTE_DIRECTION_NAME</th>\n",
       "      <th>...</th>\n",
       "      <th>primary_wave_period</th>\n",
       "      <th>primary_wave_height</th>\n",
       "      <th>primary_swell_period</th>\n",
       "      <th>primary_swell_height</th>\n",
       "      <th>primary_swell_direction</th>\n",
       "      <th>secondary_swell_period</th>\n",
       "      <th>secondary_swell_height</th>\n",
       "      <th>secondary_swell_direction</th>\n",
       "      <th>DEV_PERCENT</th>\n",
       "      <th>BUNCH_GAP</th>\n",
       "    </tr>\n",
       "  </thead>\n",
       "  <tbody>\n",
       "    <tr>\n",
       "      <th>58929</th>\n",
       "      <td>120211111</td>\n",
       "      <td>1</td>\n",
       "      <td>76887149</td>\n",
       "      <td>2021-11-11</td>\n",
       "      <td>22</td>\n",
       "      <td>2200</td>\n",
       "      <td>1194</td>\n",
       "      <td>298154</td>\n",
       "      <td>0</td>\n",
       "      <td>FROM DOWNTOWN</td>\n",
       "      <td>...</td>\n",
       "      <td>NaN</td>\n",
       "      <td>NaN</td>\n",
       "      <td>NaN</td>\n",
       "      <td>NaN</td>\n",
       "      <td>NaN</td>\n",
       "      <td>NaN</td>\n",
       "      <td>NaN</td>\n",
       "      <td>NaN</td>\n",
       "      <td>3.466664</td>\n",
       "      <td>On Time</td>\n",
       "    </tr>\n",
       "    <tr>\n",
       "      <th>58932</th>\n",
       "      <td>120211111</td>\n",
       "      <td>1</td>\n",
       "      <td>76887150</td>\n",
       "      <td>2021-11-11</td>\n",
       "      <td>22</td>\n",
       "      <td>2200</td>\n",
       "      <td>1194</td>\n",
       "      <td>298154</td>\n",
       "      <td>0</td>\n",
       "      <td>FROM DOWNTOWN</td>\n",
       "      <td>...</td>\n",
       "      <td>NaN</td>\n",
       "      <td>NaN</td>\n",
       "      <td>NaN</td>\n",
       "      <td>NaN</td>\n",
       "      <td>NaN</td>\n",
       "      <td>NaN</td>\n",
       "      <td>NaN</td>\n",
       "      <td>NaN</td>\n",
       "      <td>-66.969700</td>\n",
       "      <td>Bunched</td>\n",
       "    </tr>\n",
       "    <tr>\n",
       "      <th>58938</th>\n",
       "      <td>120211111</td>\n",
       "      <td>1</td>\n",
       "      <td>76887152</td>\n",
       "      <td>2021-11-11</td>\n",
       "      <td>22</td>\n",
       "      <td>2200</td>\n",
       "      <td>1194</td>\n",
       "      <td>298133</td>\n",
       "      <td>0</td>\n",
       "      <td>TO DOWNTOWN</td>\n",
       "      <td>...</td>\n",
       "      <td>NaN</td>\n",
       "      <td>NaN</td>\n",
       "      <td>NaN</td>\n",
       "      <td>NaN</td>\n",
       "      <td>NaN</td>\n",
       "      <td>NaN</td>\n",
       "      <td>NaN</td>\n",
       "      <td>NaN</td>\n",
       "      <td>-7.666668</td>\n",
       "      <td>On Time</td>\n",
       "    </tr>\n",
       "    <tr>\n",
       "      <th>58941</th>\n",
       "      <td>120211111</td>\n",
       "      <td>1</td>\n",
       "      <td>76887153</td>\n",
       "      <td>2021-11-11</td>\n",
       "      <td>22</td>\n",
       "      <td>2200</td>\n",
       "      <td>1194</td>\n",
       "      <td>298133</td>\n",
       "      <td>0</td>\n",
       "      <td>TO DOWNTOWN</td>\n",
       "      <td>...</td>\n",
       "      <td>NaN</td>\n",
       "      <td>NaN</td>\n",
       "      <td>NaN</td>\n",
       "      <td>NaN</td>\n",
       "      <td>NaN</td>\n",
       "      <td>NaN</td>\n",
       "      <td>NaN</td>\n",
       "      <td>NaN</td>\n",
       "      <td>-45.666670</td>\n",
       "      <td>On Time</td>\n",
       "    </tr>\n",
       "    <tr>\n",
       "      <th>58947</th>\n",
       "      <td>120211111</td>\n",
       "      <td>1</td>\n",
       "      <td>76887155</td>\n",
       "      <td>2021-11-11</td>\n",
       "      <td>22</td>\n",
       "      <td>2200</td>\n",
       "      <td>1194</td>\n",
       "      <td>298159</td>\n",
       "      <td>0</td>\n",
       "      <td>FROM DOWNTOWN</td>\n",
       "      <td>...</td>\n",
       "      <td>NaN</td>\n",
       "      <td>NaN</td>\n",
       "      <td>NaN</td>\n",
       "      <td>NaN</td>\n",
       "      <td>NaN</td>\n",
       "      <td>NaN</td>\n",
       "      <td>NaN</td>\n",
       "      <td>NaN</td>\n",
       "      <td>2.000000</td>\n",
       "      <td>On Time</td>\n",
       "    </tr>\n",
       "  </tbody>\n",
       "</table>\n",
       "<p>5 rows × 80 columns</p>\n",
       "</div>"
      ],
      "text/plain": [
       "       CALENDAR_ID  SERVICE_ABBR  ADHERENCE_ID        DATE  ROUTE_ABBR  \\\n",
       "58929    120211111             1      76887149  2021-11-11          22   \n",
       "58932    120211111             1      76887150  2021-11-11          22   \n",
       "58938    120211111             1      76887152  2021-11-11          22   \n",
       "58941    120211111             1      76887153  2021-11-11          22   \n",
       "58947    120211111             1      76887155  2021-11-11          22   \n",
       "\n",
       "       BLOCK_ABBR  OPERATOR  TRIP_ID  OVERLOAD_ID ROUTE_DIRECTION_NAME  ...  \\\n",
       "58929        2200      1194   298154            0        FROM DOWNTOWN  ...   \n",
       "58932        2200      1194   298154            0        FROM DOWNTOWN  ...   \n",
       "58938        2200      1194   298133            0          TO DOWNTOWN  ...   \n",
       "58941        2200      1194   298133            0          TO DOWNTOWN  ...   \n",
       "58947        2200      1194   298159            0        FROM DOWNTOWN  ...   \n",
       "\n",
       "      primary_wave_period  primary_wave_height  primary_swell_period  \\\n",
       "58929                 NaN                  NaN                   NaN   \n",
       "58932                 NaN                  NaN                   NaN   \n",
       "58938                 NaN                  NaN                   NaN   \n",
       "58941                 NaN                  NaN                   NaN   \n",
       "58947                 NaN                  NaN                   NaN   \n",
       "\n",
       "       primary_swell_height  primary_swell_direction secondary_swell_period  \\\n",
       "58929                   NaN                      NaN                    NaN   \n",
       "58932                   NaN                      NaN                    NaN   \n",
       "58938                   NaN                      NaN                    NaN   \n",
       "58941                   NaN                      NaN                    NaN   \n",
       "58947                   NaN                      NaN                    NaN   \n",
       "\n",
       "      secondary_swell_height secondary_swell_direction  DEV_PERCENT  BUNCH_GAP  \n",
       "58929                    NaN                       NaN     3.466664    On Time  \n",
       "58932                    NaN                       NaN   -66.969700    Bunched  \n",
       "58938                    NaN                       NaN    -7.666668    On Time  \n",
       "58941                    NaN                       NaN   -45.666670    On Time  \n",
       "58947                    NaN                       NaN     2.000000    On Time  \n",
       "\n",
       "[5 rows x 80 columns]"
      ]
     },
     "execution_count": 19,
     "metadata": {},
     "output_type": "execute_result"
    }
   ],
   "source": [
    "raining = df_drop.loc[df_drop['precip_hrly'] >0]\n",
    "raining.head()       "
   ]
  },
  {
   "cell_type": "code",
   "execution_count": 21,
   "id": "3270c567",
   "metadata": {},
   "outputs": [
    {
     "name": "stderr",
     "output_type": "stream",
     "text": [
      "C:\\Users\\Rebecca Wolfe\\AppData\\Local\\Temp\\ipykernel_11532\\1387499982.py:1: SettingWithCopyWarning: \n",
      "A value is trying to be set on a copy of a slice from a DataFrame.\n",
      "Try using .loc[row_indexer,col_indexer] = value instead\n",
      "\n",
      "See the caveats in the documentation: https://pandas.pydata.org/pandas-docs/stable/user_guide/indexing.html#returning-a-view-versus-a-copy\n",
      "  raining.loc[raining['temp'] >32, 'FREEZING_NOT_FREEZING']= 'Above Freezing'\n"
     ]
    }
   ],
   "source": [
    "raining.loc[raining['temp'] >32, 'FREEZING_NOT_FREEZING']= 'Above Freezing'\n",
    "raining.loc[raining['temp'] <=32, 'FREEZING_NOT_FREEZING']= 'At or Below Freezing'"
   ]
  },
  {
   "cell_type": "code",
   "execution_count": 22,
   "id": "066fecbb",
   "metadata": {},
   "outputs": [
    {
     "data": {
      "text/html": [
       "<div>\n",
       "<style scoped>\n",
       "    .dataframe tbody tr th:only-of-type {\n",
       "        vertical-align: middle;\n",
       "    }\n",
       "\n",
       "    .dataframe tbody tr th {\n",
       "        vertical-align: top;\n",
       "    }\n",
       "\n",
       "    .dataframe thead th {\n",
       "        text-align: right;\n",
       "    }\n",
       "</style>\n",
       "<table border=\"1\" class=\"dataframe\">\n",
       "  <thead>\n",
       "    <tr style=\"text-align: right;\">\n",
       "      <th></th>\n",
       "      <th>CALENDAR_ID</th>\n",
       "      <th>SERVICE_ABBR</th>\n",
       "      <th>ADHERENCE_ID</th>\n",
       "      <th>DATE</th>\n",
       "      <th>ROUTE_ABBR</th>\n",
       "      <th>BLOCK_ABBR</th>\n",
       "      <th>OPERATOR</th>\n",
       "      <th>TRIP_ID</th>\n",
       "      <th>OVERLOAD_ID</th>\n",
       "      <th>ROUTE_DIRECTION_NAME</th>\n",
       "      <th>...</th>\n",
       "      <th>primary_wave_height</th>\n",
       "      <th>primary_swell_period</th>\n",
       "      <th>primary_swell_height</th>\n",
       "      <th>primary_swell_direction</th>\n",
       "      <th>secondary_swell_period</th>\n",
       "      <th>secondary_swell_height</th>\n",
       "      <th>secondary_swell_direction</th>\n",
       "      <th>DEV_PERCENT</th>\n",
       "      <th>BUNCH_GAP</th>\n",
       "      <th>FREEZING_NOT_FREEZING</th>\n",
       "    </tr>\n",
       "  </thead>\n",
       "  <tbody>\n",
       "    <tr>\n",
       "      <th>58929</th>\n",
       "      <td>120211111</td>\n",
       "      <td>1</td>\n",
       "      <td>76887149</td>\n",
       "      <td>2021-11-11</td>\n",
       "      <td>22</td>\n",
       "      <td>2200</td>\n",
       "      <td>1194</td>\n",
       "      <td>298154</td>\n",
       "      <td>0</td>\n",
       "      <td>FROM DOWNTOWN</td>\n",
       "      <td>...</td>\n",
       "      <td>NaN</td>\n",
       "      <td>NaN</td>\n",
       "      <td>NaN</td>\n",
       "      <td>NaN</td>\n",
       "      <td>NaN</td>\n",
       "      <td>NaN</td>\n",
       "      <td>NaN</td>\n",
       "      <td>3.466664</td>\n",
       "      <td>On Time</td>\n",
       "      <td>Above Freezing</td>\n",
       "    </tr>\n",
       "    <tr>\n",
       "      <th>58932</th>\n",
       "      <td>120211111</td>\n",
       "      <td>1</td>\n",
       "      <td>76887150</td>\n",
       "      <td>2021-11-11</td>\n",
       "      <td>22</td>\n",
       "      <td>2200</td>\n",
       "      <td>1194</td>\n",
       "      <td>298154</td>\n",
       "      <td>0</td>\n",
       "      <td>FROM DOWNTOWN</td>\n",
       "      <td>...</td>\n",
       "      <td>NaN</td>\n",
       "      <td>NaN</td>\n",
       "      <td>NaN</td>\n",
       "      <td>NaN</td>\n",
       "      <td>NaN</td>\n",
       "      <td>NaN</td>\n",
       "      <td>NaN</td>\n",
       "      <td>-66.969700</td>\n",
       "      <td>Bunched</td>\n",
       "      <td>Above Freezing</td>\n",
       "    </tr>\n",
       "    <tr>\n",
       "      <th>58938</th>\n",
       "      <td>120211111</td>\n",
       "      <td>1</td>\n",
       "      <td>76887152</td>\n",
       "      <td>2021-11-11</td>\n",
       "      <td>22</td>\n",
       "      <td>2200</td>\n",
       "      <td>1194</td>\n",
       "      <td>298133</td>\n",
       "      <td>0</td>\n",
       "      <td>TO DOWNTOWN</td>\n",
       "      <td>...</td>\n",
       "      <td>NaN</td>\n",
       "      <td>NaN</td>\n",
       "      <td>NaN</td>\n",
       "      <td>NaN</td>\n",
       "      <td>NaN</td>\n",
       "      <td>NaN</td>\n",
       "      <td>NaN</td>\n",
       "      <td>-7.666668</td>\n",
       "      <td>On Time</td>\n",
       "      <td>Above Freezing</td>\n",
       "    </tr>\n",
       "    <tr>\n",
       "      <th>58941</th>\n",
       "      <td>120211111</td>\n",
       "      <td>1</td>\n",
       "      <td>76887153</td>\n",
       "      <td>2021-11-11</td>\n",
       "      <td>22</td>\n",
       "      <td>2200</td>\n",
       "      <td>1194</td>\n",
       "      <td>298133</td>\n",
       "      <td>0</td>\n",
       "      <td>TO DOWNTOWN</td>\n",
       "      <td>...</td>\n",
       "      <td>NaN</td>\n",
       "      <td>NaN</td>\n",
       "      <td>NaN</td>\n",
       "      <td>NaN</td>\n",
       "      <td>NaN</td>\n",
       "      <td>NaN</td>\n",
       "      <td>NaN</td>\n",
       "      <td>-45.666670</td>\n",
       "      <td>On Time</td>\n",
       "      <td>Above Freezing</td>\n",
       "    </tr>\n",
       "    <tr>\n",
       "      <th>58947</th>\n",
       "      <td>120211111</td>\n",
       "      <td>1</td>\n",
       "      <td>76887155</td>\n",
       "      <td>2021-11-11</td>\n",
       "      <td>22</td>\n",
       "      <td>2200</td>\n",
       "      <td>1194</td>\n",
       "      <td>298159</td>\n",
       "      <td>0</td>\n",
       "      <td>FROM DOWNTOWN</td>\n",
       "      <td>...</td>\n",
       "      <td>NaN</td>\n",
       "      <td>NaN</td>\n",
       "      <td>NaN</td>\n",
       "      <td>NaN</td>\n",
       "      <td>NaN</td>\n",
       "      <td>NaN</td>\n",
       "      <td>NaN</td>\n",
       "      <td>2.000000</td>\n",
       "      <td>On Time</td>\n",
       "      <td>Above Freezing</td>\n",
       "    </tr>\n",
       "  </tbody>\n",
       "</table>\n",
       "<p>5 rows × 81 columns</p>\n",
       "</div>"
      ],
      "text/plain": [
       "       CALENDAR_ID  SERVICE_ABBR  ADHERENCE_ID        DATE  ROUTE_ABBR  \\\n",
       "58929    120211111             1      76887149  2021-11-11          22   \n",
       "58932    120211111             1      76887150  2021-11-11          22   \n",
       "58938    120211111             1      76887152  2021-11-11          22   \n",
       "58941    120211111             1      76887153  2021-11-11          22   \n",
       "58947    120211111             1      76887155  2021-11-11          22   \n",
       "\n",
       "       BLOCK_ABBR  OPERATOR  TRIP_ID  OVERLOAD_ID ROUTE_DIRECTION_NAME  ...  \\\n",
       "58929        2200      1194   298154            0        FROM DOWNTOWN  ...   \n",
       "58932        2200      1194   298154            0        FROM DOWNTOWN  ...   \n",
       "58938        2200      1194   298133            0          TO DOWNTOWN  ...   \n",
       "58941        2200      1194   298133            0          TO DOWNTOWN  ...   \n",
       "58947        2200      1194   298159            0        FROM DOWNTOWN  ...   \n",
       "\n",
       "      primary_wave_height  primary_swell_period  primary_swell_height  \\\n",
       "58929                 NaN                   NaN                   NaN   \n",
       "58932                 NaN                   NaN                   NaN   \n",
       "58938                 NaN                   NaN                   NaN   \n",
       "58941                 NaN                   NaN                   NaN   \n",
       "58947                 NaN                   NaN                   NaN   \n",
       "\n",
       "       primary_swell_direction  secondary_swell_period secondary_swell_height  \\\n",
       "58929                      NaN                     NaN                    NaN   \n",
       "58932                      NaN                     NaN                    NaN   \n",
       "58938                      NaN                     NaN                    NaN   \n",
       "58941                      NaN                     NaN                    NaN   \n",
       "58947                      NaN                     NaN                    NaN   \n",
       "\n",
       "      secondary_swell_direction DEV_PERCENT  BUNCH_GAP  FREEZING_NOT_FREEZING  \n",
       "58929                       NaN    3.466664    On Time         Above Freezing  \n",
       "58932                       NaN  -66.969700    Bunched         Above Freezing  \n",
       "58938                       NaN   -7.666668    On Time         Above Freezing  \n",
       "58941                       NaN  -45.666670    On Time         Above Freezing  \n",
       "58947                       NaN    2.000000    On Time         Above Freezing  \n",
       "\n",
       "[5 rows x 81 columns]"
      ]
     },
     "execution_count": 22,
     "metadata": {},
     "output_type": "execute_result"
    }
   ],
   "source": [
    "raining.head()"
   ]
  },
  {
   "cell_type": "code",
   "execution_count": 39,
   "id": "ede2b044",
   "metadata": {
    "scrolled": true
   },
   "outputs": [
    {
     "ename": "NameError",
     "evalue": "name 'rain' is not defined",
     "output_type": "error",
     "traceback": [
      "\u001b[1;31m---------------------------------------------------------------------------\u001b[0m",
      "\u001b[1;31mNameError\u001b[0m                                 Traceback (most recent call last)",
      "Input \u001b[1;32mIn [39]\u001b[0m, in \u001b[0;36m<cell line: 1>\u001b[1;34m()\u001b[0m\n\u001b[1;32m----> 1\u001b[0m sns\u001b[38;5;241m.\u001b[39mbarplot(x\u001b[38;5;241m=\u001b[39m\u001b[38;5;124m'\u001b[39m\u001b[38;5;124mADHERENCE_ID\u001b[39m\u001b[38;5;124m'\u001b[39m, y\u001b[38;5;241m=\u001b[39m\u001b[38;5;124m'\u001b[39m\u001b[38;5;124mFREEZING_NOT_FREEZING\u001b[39m\u001b[38;5;124m'\u001b[39m, hue\u001b[38;5;241m=\u001b[39m\u001b[38;5;124m'\u001b[39m\u001b[38;5;124mBUNCH_GAP\u001b[39m\u001b[38;5;124m'\u001b[39m, data\u001b[38;5;241m=\u001b[39m\u001b[43mrain\u001b[49m) \n\u001b[0;32m      2\u001b[0m sns\u001b[38;5;241m.\u001b[39mbarplot(x\u001b[38;5;241m=\u001b[39m\u001b[38;5;124m'\u001b[39m\u001b[38;5;124mDay\u001b[39m\u001b[38;5;124m'\u001b[39m, y\u001b[38;5;241m=\u001b[39m\u001b[38;5;124m'\u001b[39m\u001b[38;5;124mCustomers\u001b[39m\u001b[38;5;124m'\u001b[39m, hue\u001b[38;5;241m=\u001b[39m\u001b[38;5;124m'\u001b[39m\u001b[38;5;124mTime\u001b[39m\u001b[38;5;124m'\u001b[39m, data\u001b[38;5;241m=\u001b[39mdf)\n",
      "\u001b[1;31mNameError\u001b[0m: name 'rain' is not defined"
     ]
    }
   ],
   "source": [
    "sns.barplot(x='ADHERENCE_ID', y='FREEZING_NOT_FREEZING', hue='BUNCH_GAP', data=raining) \n",
    "sns.barplot(x='Day', y='Customers', hue='Time', data=df) "
   ]
  },
  {
   "cell_type": "code",
   "execution_count": 36,
   "id": "dc5ff304",
   "metadata": {},
   "outputs": [
    {
     "data": {
      "image/png": "[encoded data removed]",
      "text/plain": [
       "<Figure size 432x288 with 1 Axes>"
      ]
     },
     "metadata": {},
     "output_type": "display_data"
    }
   ],
   "source": [
    "df = raining\n",
    "sns.set_style('darkgrid')\n",
    "sns.set_palette('Paired')\n",
    "sns.barplot(data=df, x='TRIP_ID', y='FREEZING_NOT_FREEZING', hue='BUNCH_GAP')\n",
    "plt.title('Freezing rain vs rain')\n",
    "plt.xlabel('freezing')\n",
    "plt.ylabel('bunched or gapped')\n",
    "sns.despine()\n",
    "plt.show()"
   ]
  },
  {
   "cell_type": "code",
   "execution_count": null,
   "id": "90203611",
   "metadata": {},
   "outputs": [],
   "source": [
    "df = sns.load_dataset('titanic')\n",
    "sns.set_style('darkgrid')\n",
    "sns.set_palette('Set2')\n",
    "sns.countplot(data=df, x=\"class\", hue='sex')\n",
    "plt.title('Number of passengers, by class')\n",
    "plt.xlabel('Class')\n",
    "plt.ylabel('# of Passengers')\n",
    "sns.despine()\n",
    "plt.show()"
   ]
  },
  {
   "cell_type": "code",
   "execution_count": null,
   "id": "7fd294cb",
   "metadata": {},
   "outputs": [],
   "source": []
  },
  {
   "cell_type": "code",
   "execution_count": null,
   "id": "93ad18af",
   "metadata": {},
   "outputs": [],
   "source": []
  },
  {
   "cell_type": "code",
   "execution_count": null,
   "id": "08cd6b04",
   "metadata": {},
   "outputs": [],
   "source": [
    "df_drop.head()"
   ]
  },
  {
   "cell_type": "code",
   "execution_count": null,
   "id": "97db7f7b",
   "metadata": {},
   "outputs": [],
   "source": []
  },
  {
   "cell_type": "markdown",
   "id": "9989e2e6",
   "metadata": {},
   "source": [
    "Dropping nulls in dev_percent column\n",
    "\n",
    "On Time    1350769\n",
    "Gapped       86564\n",
    "Bunched      70014\n",
    "\n",
    "Dropping nulls in scheduled headway column:\n",
    "\n",
    "On Time    1392843\n",
    "Gapped       86564\n",
    "Bunched      70014\n",
    "\n",
    "On Time    1350769\n",
    "Gapped       86564\n",
    "Bunched      70014\n",
    "\n",
    "Without dropping nulls:\n",
    "\n",
    "On Time    1825137\n",
    "Gapped       86564\n",
    "Bunched      70014\n"
   ]
  },
  {
   "cell_type": "code",
   "execution_count": null,
   "id": "d72dbe50",
   "metadata": {},
   "outputs": [],
   "source": [
    "# without dropping null values from dev_percent column \n",
    "\n",
    "merge_df['BUNCH_GAP'].value_counts(normalize=True)"
   ]
  },
  {
   "cell_type": "code",
   "execution_count": null,
   "id": "2322e013",
   "metadata": {},
   "outputs": [],
   "source": [
    "below_freezing = df_drop.loc[df_drop['temp']<32]\n",
    "below_freezing['BUNCH_GAP'].value_counts()"
   ]
  },
  {
   "cell_type": "code",
   "execution_count": null,
   "id": "a9b8c988",
   "metadata": {},
   "outputs": [],
   "source": [
    "below_freezing['BUNCH_GAP'].value_counts(normalize=True)"
   ]
  },
  {
   "cell_type": "code",
   "execution_count": null,
   "id": "5f1eae91",
   "metadata": {},
   "outputs": [],
   "source": [
    "above_freezing=df_drop.loc[df_drop['temp']>32]\n",
    "above_freezing['BUNCH_GAP'].value_counts()"
   ]
  },
  {
   "cell_type": "code",
   "execution_count": null,
   "id": "96e63e74",
   "metadata": {},
   "outputs": [],
   "source": [
    "above_freezing['BUNCH_GAP'].value_counts(normalize = True)"
   ]
  },
  {
   "cell_type": "code",
   "execution_count": null,
   "id": "6be69379",
   "metadata": {},
   "outputs": [],
   "source": [
    "above_freezing['BUNCH_GAP'].value_counts().plot(kind='bar');\n",
    "plt.style.use('seaborn')"
   ]
  },
  {
   "cell_type": "code",
   "execution_count": null,
   "id": "38ec0aef",
   "metadata": {},
   "outputs": [],
   "source": [
    "below_freezing['BUNCH_GAP'].value_counts().plot(kind='bar');"
   ]
  },
  {
   "cell_type": "code",
   "execution_count": null,
   "id": "015efcf6",
   "metadata": {},
   "outputs": [],
   "source": [
    "above_freezing['temp'].value_counts().plot(kind='hist');"
   ]
  },
  {
   "cell_type": "code",
   "execution_count": null,
   "id": "c46dac8b",
   "metadata": {},
   "outputs": [],
   "source": []
  },
  {
   "cell_type": "code",
   "execution_count": null,
   "id": "5870da20",
   "metadata": {},
   "outputs": [],
   "source": [
    "#above_freezing=merge_df_b.loc[merge_df_b['temp']>32]\n",
    "\n",
    "freezing_rain = below_freezing.loc[below_freezing['precip_hrly']>0]\n",
    "freezing_rain.head()"
   ]
  },
  {
   "cell_type": "code",
   "execution_count": null,
   "id": "67c01ea9",
   "metadata": {},
   "outputs": [],
   "source": [
    "not_freezing_rain = above_freezing.loc[above_freezing['precip_hrly']<1]\n",
    "not_freezing_rain.head()"
   ]
  },
  {
   "cell_type": "code",
   "execution_count": null,
   "id": "255fe9c2",
   "metadata": {},
   "outputs": [],
   "source": [
    "below_freezing['precip_hrly'].value_counts()"
   ]
  },
  {
   "cell_type": "code",
   "execution_count": null,
   "id": "129e8d47",
   "metadata": {},
   "outputs": [],
   "source": [
    "freezing_rain['BUNCH_GAP'].value_counts()"
   ]
  },
  {
   "cell_type": "code",
   "execution_count": null,
   "id": "3164c368",
   "metadata": {},
   "outputs": [],
   "source": [
    "freezing_rain['BUNCH_GAP'].value_counts(normalize=True)"
   ]
  },
  {
   "cell_type": "code",
   "execution_count": null,
   "id": "2ea7b795",
   "metadata": {},
   "outputs": [],
   "source": [
    "freezing_rain['BUNCH_GAP'].value_counts().plot(kind='bar')\n",
    "plt.xticks(fontsize=12) \n",
    "                             \n",
    "\n",
    "plt.xticks(fontsize = 12) \n",
    "tick_val = [0,100,200,300,400,500,600,700,800,900,1000,1100,1200,1300]\n",
    "plt.yticks(tick_val)                            \n",
    "plt.title('Freezing Rain',                              \n",
    "         fontsize = 14,\n",
    "         fontweight = 'bold');\n",
    "\n",
    "\n",
    "# sns.color_palette(palette='Paired')"
   ]
  },
  {
   "cell_type": "code",
   "execution_count": null,
   "id": "2214bdc4",
   "metadata": {},
   "outputs": [],
   "source": [
    "a =sns.barplot(x=freezing_rain.BUNCH_GAP.value_counts().index, y=freezing_rain.BUNCH_GAP.value_counts(), palette='Paired')\n",
    "\n"
   ]
  },
  {
   "cell_type": "code",
   "execution_count": null,
   "id": "ca5076b1",
   "metadata": {},
   "outputs": [],
   "source": [
    "a =sns.barplot(x=not_freezing_rain.BUNCH_GAP.value_counts().index, y=not_freezing_rain.BUNCH_GAP.value_counts(), palette='Paired')\n",
    "\n",
    "# all raining with 2 smaller dataframes with either 32 degrees and below or 32 degrees and above. \n",
    "# raining freezing vs raining not freezing. \n",
    "\n",
    "\n"
   ]
  },
  {
   "cell_type": "code",
   "execution_count": null,
   "id": "cab3faf6",
   "metadata": {},
   "outputs": [],
   "source": [
    "plt.figure(figsize=(11,11))\n",
    "p = sns.barplot(x='IS_SNOWING',\n",
    "           y='TRIP_ID',\n",
    "           hue= 'GAPPED_OR_BUNCHED',\n",
    "            palette='Paired',    \n",
    "           data = snow_vs_nosnow.reset_index())\n",
    "for i in p.containers:\n",
    "    p.bar_label(i,)\n",
    "plt.xlabel('Snow Status')\n",
    "plt.ylabel('% of Total')\n",
    "plt.title('Snow vs. Headway Deviation')\n"
   ]
  },
  {
   "cell_type": "code",
   "execution_count": null,
   "id": "dc07a16e",
   "metadata": {},
   "outputs": [],
   "source": [
    "sns.pairplot(df_drop, hue='total_bill', palette='Paired')\n",
    "plt.show()"
   ]
  },
  {
   "cell_type": "code",
   "execution_count": null,
   "id": "42c5c365",
   "metadata": {},
   "outputs": [],
   "source": [
    "merge_df['temp'].plot(kind='hist')\n",
    "\n",
    "\n",
    "\n"
   ]
  },
  {
   "cell_type": "code",
   "execution_count": null,
   "id": "09e4fb81",
   "metadata": {},
   "outputs": [],
   "source": [
    "# plt.hist(df_2014['Internet_Users_Pct'], bins=8)\n",
    "\n",
    "\n",
    "plt.hist(merge_df['temp'], bins=6)\n",
    "plt.show()"
   ]
  },
  {
   "cell_type": "code",
   "execution_count": null,
   "id": "72929964",
   "metadata": {},
   "outputs": [],
   "source": [
    "\n",
    "plt.plot(merge_df['temp'])\n",
    "plt.show()"
   ]
  },
  {
   "cell_type": "code",
   "execution_count": null,
   "id": "efa66ae4",
   "metadata": {},
   "outputs": [],
   "source": [
    "merge_df['temp'].value_counts().plot(kind='barh')"
   ]
  },
  {
   "cell_type": "code",
   "execution_count": null,
   "id": "e2def62b",
   "metadata": {},
   "outputs": [],
   "source": [
    "below_freezing.corr()\n"
   ]
  },
  {
   "cell_type": "markdown",
   "id": "bdb69622",
   "metadata": {},
   "source": [
    "The Official WeGo Style Guide of Styles\n",
    "Chart palette should be 'Paired' (seaborn palette code = 'Paired')\n",
    "Standard font\n",
    "Follow normal capitalization rules for chart labels\n",
    "Make sure charts used for comparisons have uniform axiis (ie. charts dealing with percentages should be 0-100)\n",
    "Order labels appropriately  (months, days, time, etc). Weekdays should be in order starting with Monday\n",
    "Color Congruency (if a year or route is one color in one slide, it should be the same color in another slide)\n",
    "When adding charts to slides, be sure that they don't appear to be stretched. (Shift+Click when resizing, or set size in Jupyter Notebook)\n",
    "Google slide deck to add your slides here:\n",
    "https://docs.google.com/presentation/d/1amjAIDhoRR63oJNMUm9oM2Uf799NaOMkCXslJ8nAex0/edit?usp=sharing (edited) "
   ]
  }
 ],
 "metadata": {
  "kernelspec": {
   "display_name": "Python 3 (ipykernel)",
   "language": "python",
   "name": "python3"
  },
  "language_info": {
   "codemirror_mode": {
    "name": "ipython",
    "version": 3
   },
   "file_extension": ".py",
   "mimetype": "text/x-python",
   "name": "python",
   "nbconvert_exporter": "python",
   "pygments_lexer": "ipython3",
   "version": "3.9.12"
  }
 },
 "nbformat": 4,
 "nbformat_minor": 5
}
