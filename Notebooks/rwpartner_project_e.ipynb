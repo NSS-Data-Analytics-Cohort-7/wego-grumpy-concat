{
 "cells": [
  {
   "cell_type": "markdown",
   "id": "bb171367",
   "metadata": {},
   "source": [
    "# Question 8: Does weather have any effect on headway or on-time performance? To help answer this question, the file bna_2022.csv contains historical weather data recorded at Nashville International Airport."
   ]
  },
  {
   "cell_type": "code",
   "execution_count": 1,
   "id": "9c8af787",
   "metadata": {},
   "outputs": [],
   "source": [
    "import numpy as np\n",
    "import pandas as pd\n",
    "import matplotlib.pyplot as plt\n",
    "import seaborn as sns"
   ]
  },
  {
   "cell_type": "code",
   "execution_count": 2,
   "id": "7d64d734",
   "metadata": {},
   "outputs": [],
   "source": [
    "headway = pd.read_csv('../Data/Headway Data.csv')"
   ]
  },
  {
   "cell_type": "code",
   "execution_count": 3,
   "id": "cf765f56",
   "metadata": {},
   "outputs": [],
   "source": [
    "weather = pd.read_csv('../Data/bna_weather.csv')"
   ]
  },
  {
   "cell_type": "markdown",
   "id": "be020299",
   "metadata": {},
   "source": [
    "stripped hour from data column to merge the two datasets"
   ]
  },
  {
   "cell_type": "code",
   "execution_count": 4,
   "id": "d63d0f50",
   "metadata": {},
   "outputs": [],
   "source": [
    "headway['NEW_DATE']=headway.DATE\n",
    "headway['NEW_DATE']= pd.to_datetime(headway.NEW_DATE)\n",
    "headway['HOUR']=headway.SCHEDULED_TIME.str.slice(0,2).astype(str)"
   ]
  },
  {
   "cell_type": "code",
   "execution_count": 5,
   "id": "c9663741",
   "metadata": {},
   "outputs": [],
   "source": [
    "weather['HOUR']=weather.Date.str.slice(11,13).astype(str)\n",
    "weather['NEW_DATE']=weather.Date.str.slice(0,10).astype(str)\n",
    "weather['NEW_DATE']= pd.to_datetime(weather.NEW_DATE)"
   ]
  },
  {
   "cell_type": "code",
   "execution_count": 6,
   "id": "c8d095c3",
   "metadata": {},
   "outputs": [],
   "source": [
    "merge_df = headway.merge(weather, on=['NEW_DATE','HOUR'], how= \"left\")\n"
   ]
  },
  {
   "cell_type": "code",
   "execution_count": 7,
   "id": "acd80060",
   "metadata": {},
   "outputs": [],
   "source": [
    "merge_df = merge_df.drop_duplicates(['ADHERENCE_ID'])"
   ]
  },
  {
   "cell_type": "code",
   "execution_count": 8,
   "id": "c90a52a7",
   "metadata": {},
   "outputs": [],
   "source": [
    "merge_df['DEV_PERCENT'] = merge_df.HDWY_DEV/merge_df.SCHEDULED_HDWY * 100"
   ]
  },
  {
   "cell_type": "code",
   "execution_count": 9,
   "id": "aa52cc19",
   "metadata": {},
   "outputs": [],
   "source": [
    "df_drop = merge_df.dropna(subset=['DEV_PERCENT'])"
   ]
  },
  {
   "cell_type": "code",
   "execution_count": null,
   "id": "0482314a",
   "metadata": {},
   "outputs": [],
   "source": []
  },
  {
   "cell_type": "code",
   "execution_count": 11,
   "id": "e2a96aa7",
   "metadata": {},
   "outputs": [
    {
     "name": "stderr",
     "output_type": "stream",
     "text": [
      "C:\\Users\\Rebecca Wolfe\\AppData\\Local\\Temp\\ipykernel_24604\\589286866.py:9: SettingWithCopyWarning: \n",
      "A value is trying to be set on a copy of a slice from a DataFrame.\n",
      "Try using .loc[row_indexer,col_indexer] = value instead\n",
      "\n",
      "See the caveats in the documentation: https://pandas.pydata.org/pandas-docs/stable/user_guide/indexing.html#returning-a-view-versus-a-copy\n",
      "  df_drop['BUNCH_GAP'] = df_drop['DEV_PERCENT'].map(BUNCH_GAP)\n"
     ]
    }
   ],
   "source": [
    "def BUNCH_GAP(value):\n",
    "    if value >= 50:\n",
    "        return \"Gapped\"\n",
    "    elif value <= -50:\n",
    "        return \"Bunched\" \n",
    "    else:\n",
    "        return \"On Time\"\n",
    "\n",
    "df_drop['BUNCH_GAP'] = df_drop['DEV_PERCENT'].map(BUNCH_GAP)\n"
   ]
  },
  {
   "cell_type": "code",
   "execution_count": 12,
   "id": "0ed696c5",
   "metadata": {},
   "outputs": [
    {
     "data": {
      "text/plain": [
       "On Time    1350769\n",
       "Gapped       86564\n",
       "Bunched      70014\n",
       "Name: BUNCH_GAP, dtype: int64"
      ]
     },
     "execution_count": 12,
     "metadata": {},
     "output_type": "execute_result"
    }
   ],
   "source": [
    "# totals after dropping null values from DEV_PERCENT column \n",
    "\n",
    "df_drop['BUNCH_GAP'].value_counts(dropna=False)"
   ]
  },
  {
   "cell_type": "code",
   "execution_count": 13,
   "id": "a8ce303e",
   "metadata": {},
   "outputs": [
    {
     "data": {
      "text/plain": [
       "On Time    0.896123\n",
       "Gapped     0.057428\n",
       "Bunched    0.046448\n",
       "Name: BUNCH_GAP, dtype: float64"
      ]
     },
     "execution_count": 13,
     "metadata": {},
     "output_type": "execute_result"
    }
   ],
   "source": [
    "# percentages\n",
    "\n",
    "df_drop['BUNCH_GAP'].value_counts(normalize=True)"
   ]
  },
  {
   "cell_type": "markdown",
   "id": "eaf94ab8",
   "metadata": {},
   "source": [
    "make a dataframe with just rain\n"
   ]
  },
  {
   "cell_type": "code",
   "execution_count": 14,
   "id": "3dd1682f",
   "metadata": {},
   "outputs": [
    {
     "data": {
      "text/html": [
       "<div>\n",
       "<style scoped>\n",
       "    .dataframe tbody tr th:only-of-type {\n",
       "        vertical-align: middle;\n",
       "    }\n",
       "\n",
       "    .dataframe tbody tr th {\n",
       "        vertical-align: top;\n",
       "    }\n",
       "\n",
       "    .dataframe thead th {\n",
       "        text-align: right;\n",
       "    }\n",
       "</style>\n",
       "<table border=\"1\" class=\"dataframe\">\n",
       "  <thead>\n",
       "    <tr style=\"text-align: right;\">\n",
       "      <th></th>\n",
       "      <th>CALENDAR_ID</th>\n",
       "      <th>SERVICE_ABBR</th>\n",
       "      <th>ADHERENCE_ID</th>\n",
       "      <th>DATE</th>\n",
       "      <th>ROUTE_ABBR</th>\n",
       "      <th>BLOCK_ABBR</th>\n",
       "      <th>OPERATOR</th>\n",
       "      <th>TRIP_ID</th>\n",
       "      <th>OVERLOAD_ID</th>\n",
       "      <th>ROUTE_DIRECTION_NAME</th>\n",
       "      <th>...</th>\n",
       "      <th>primary_wave_period</th>\n",
       "      <th>primary_wave_height</th>\n",
       "      <th>primary_swell_period</th>\n",
       "      <th>primary_swell_height</th>\n",
       "      <th>primary_swell_direction</th>\n",
       "      <th>secondary_swell_period</th>\n",
       "      <th>secondary_swell_height</th>\n",
       "      <th>secondary_swell_direction</th>\n",
       "      <th>DEV_PERCENT</th>\n",
       "      <th>BUNCH_GAP</th>\n",
       "    </tr>\n",
       "  </thead>\n",
       "  <tbody>\n",
       "    <tr>\n",
       "      <th>58929</th>\n",
       "      <td>120211111</td>\n",
       "      <td>1</td>\n",
       "      <td>76887149</td>\n",
       "      <td>2021-11-11</td>\n",
       "      <td>22</td>\n",
       "      <td>2200</td>\n",
       "      <td>1194</td>\n",
       "      <td>298154</td>\n",
       "      <td>0</td>\n",
       "      <td>FROM DOWNTOWN</td>\n",
       "      <td>...</td>\n",
       "      <td>NaN</td>\n",
       "      <td>NaN</td>\n",
       "      <td>NaN</td>\n",
       "      <td>NaN</td>\n",
       "      <td>NaN</td>\n",
       "      <td>NaN</td>\n",
       "      <td>NaN</td>\n",
       "      <td>NaN</td>\n",
       "      <td>3.466664</td>\n",
       "      <td>On Time</td>\n",
       "    </tr>\n",
       "    <tr>\n",
       "      <th>58932</th>\n",
       "      <td>120211111</td>\n",
       "      <td>1</td>\n",
       "      <td>76887150</td>\n",
       "      <td>2021-11-11</td>\n",
       "      <td>22</td>\n",
       "      <td>2200</td>\n",
       "      <td>1194</td>\n",
       "      <td>298154</td>\n",
       "      <td>0</td>\n",
       "      <td>FROM DOWNTOWN</td>\n",
       "      <td>...</td>\n",
       "      <td>NaN</td>\n",
       "      <td>NaN</td>\n",
       "      <td>NaN</td>\n",
       "      <td>NaN</td>\n",
       "      <td>NaN</td>\n",
       "      <td>NaN</td>\n",
       "      <td>NaN</td>\n",
       "      <td>NaN</td>\n",
       "      <td>-66.969700</td>\n",
       "      <td>Bunched</td>\n",
       "    </tr>\n",
       "    <tr>\n",
       "      <th>58938</th>\n",
       "      <td>120211111</td>\n",
       "      <td>1</td>\n",
       "      <td>76887152</td>\n",
       "      <td>2021-11-11</td>\n",
       "      <td>22</td>\n",
       "      <td>2200</td>\n",
       "      <td>1194</td>\n",
       "      <td>298133</td>\n",
       "      <td>0</td>\n",
       "      <td>TO DOWNTOWN</td>\n",
       "      <td>...</td>\n",
       "      <td>NaN</td>\n",
       "      <td>NaN</td>\n",
       "      <td>NaN</td>\n",
       "      <td>NaN</td>\n",
       "      <td>NaN</td>\n",
       "      <td>NaN</td>\n",
       "      <td>NaN</td>\n",
       "      <td>NaN</td>\n",
       "      <td>-7.666668</td>\n",
       "      <td>On Time</td>\n",
       "    </tr>\n",
       "    <tr>\n",
       "      <th>58941</th>\n",
       "      <td>120211111</td>\n",
       "      <td>1</td>\n",
       "      <td>76887153</td>\n",
       "      <td>2021-11-11</td>\n",
       "      <td>22</td>\n",
       "      <td>2200</td>\n",
       "      <td>1194</td>\n",
       "      <td>298133</td>\n",
       "      <td>0</td>\n",
       "      <td>TO DOWNTOWN</td>\n",
       "      <td>...</td>\n",
       "      <td>NaN</td>\n",
       "      <td>NaN</td>\n",
       "      <td>NaN</td>\n",
       "      <td>NaN</td>\n",
       "      <td>NaN</td>\n",
       "      <td>NaN</td>\n",
       "      <td>NaN</td>\n",
       "      <td>NaN</td>\n",
       "      <td>-45.666670</td>\n",
       "      <td>On Time</td>\n",
       "    </tr>\n",
       "    <tr>\n",
       "      <th>58947</th>\n",
       "      <td>120211111</td>\n",
       "      <td>1</td>\n",
       "      <td>76887155</td>\n",
       "      <td>2021-11-11</td>\n",
       "      <td>22</td>\n",
       "      <td>2200</td>\n",
       "      <td>1194</td>\n",
       "      <td>298159</td>\n",
       "      <td>0</td>\n",
       "      <td>FROM DOWNTOWN</td>\n",
       "      <td>...</td>\n",
       "      <td>NaN</td>\n",
       "      <td>NaN</td>\n",
       "      <td>NaN</td>\n",
       "      <td>NaN</td>\n",
       "      <td>NaN</td>\n",
       "      <td>NaN</td>\n",
       "      <td>NaN</td>\n",
       "      <td>NaN</td>\n",
       "      <td>2.000000</td>\n",
       "      <td>On Time</td>\n",
       "    </tr>\n",
       "  </tbody>\n",
       "</table>\n",
       "<p>5 rows × 80 columns</p>\n",
       "</div>"
      ],
      "text/plain": [
       "       CALENDAR_ID  SERVICE_ABBR  ADHERENCE_ID        DATE  ROUTE_ABBR  \\\n",
       "58929    120211111             1      76887149  2021-11-11          22   \n",
       "58932    120211111             1      76887150  2021-11-11          22   \n",
       "58938    120211111             1      76887152  2021-11-11          22   \n",
       "58941    120211111             1      76887153  2021-11-11          22   \n",
       "58947    120211111             1      76887155  2021-11-11          22   \n",
       "\n",
       "       BLOCK_ABBR  OPERATOR  TRIP_ID  OVERLOAD_ID ROUTE_DIRECTION_NAME  ...  \\\n",
       "58929        2200      1194   298154            0        FROM DOWNTOWN  ...   \n",
       "58932        2200      1194   298154            0        FROM DOWNTOWN  ...   \n",
       "58938        2200      1194   298133            0          TO DOWNTOWN  ...   \n",
       "58941        2200      1194   298133            0          TO DOWNTOWN  ...   \n",
       "58947        2200      1194   298159            0        FROM DOWNTOWN  ...   \n",
       "\n",
       "      primary_wave_period  primary_wave_height  primary_swell_period  \\\n",
       "58929                 NaN                  NaN                   NaN   \n",
       "58932                 NaN                  NaN                   NaN   \n",
       "58938                 NaN                  NaN                   NaN   \n",
       "58941                 NaN                  NaN                   NaN   \n",
       "58947                 NaN                  NaN                   NaN   \n",
       "\n",
       "       primary_swell_height  primary_swell_direction secondary_swell_period  \\\n",
       "58929                   NaN                      NaN                    NaN   \n",
       "58932                   NaN                      NaN                    NaN   \n",
       "58938                   NaN                      NaN                    NaN   \n",
       "58941                   NaN                      NaN                    NaN   \n",
       "58947                   NaN                      NaN                    NaN   \n",
       "\n",
       "      secondary_swell_height secondary_swell_direction  DEV_PERCENT  BUNCH_GAP  \n",
       "58929                    NaN                       NaN     3.466664    On Time  \n",
       "58932                    NaN                       NaN   -66.969700    Bunched  \n",
       "58938                    NaN                       NaN    -7.666668    On Time  \n",
       "58941                    NaN                       NaN   -45.666670    On Time  \n",
       "58947                    NaN                       NaN     2.000000    On Time  \n",
       "\n",
       "[5 rows x 80 columns]"
      ]
     },
     "execution_count": 14,
     "metadata": {},
     "output_type": "execute_result"
    }
   ],
   "source": [
    "raining = df_drop.loc[df_drop['precip_hrly'] >0]\n",
    "     "
   ]
  },
  {
   "cell_type": "code",
   "execution_count": 15,
   "id": "3270c567",
   "metadata": {},
   "outputs": [
    {
     "name": "stderr",
     "output_type": "stream",
     "text": [
      "C:\\Users\\Rebecca Wolfe\\AppData\\Local\\Temp\\ipykernel_24604\\1387499982.py:1: SettingWithCopyWarning: \n",
      "A value is trying to be set on a copy of a slice from a DataFrame.\n",
      "Try using .loc[row_indexer,col_indexer] = value instead\n",
      "\n",
      "See the caveats in the documentation: https://pandas.pydata.org/pandas-docs/stable/user_guide/indexing.html#returning-a-view-versus-a-copy\n",
      "  raining.loc[raining['temp'] >32, 'FREEZING_NOT_FREEZING']= 'Above Freezing'\n"
     ]
    }
   ],
   "source": [
    "raining.loc[raining['temp'] >32, 'FREEZING_NOT_FREEZING']= 'Above Freezing'\n",
    "raining.loc[raining['temp'] <=32, 'FREEZING_NOT_FREEZING']= 'At or Below Freezing'"
   ]
  },
  {
   "cell_type": "code",
   "execution_count": 16,
   "id": "066fecbb",
   "metadata": {},
   "outputs": [
    {
     "data": {
      "text/html": [
       "<div>\n",
       "<style scoped>\n",
       "    .dataframe tbody tr th:only-of-type {\n",
       "        vertical-align: middle;\n",
       "    }\n",
       "\n",
       "    .dataframe tbody tr th {\n",
       "        vertical-align: top;\n",
       "    }\n",
       "\n",
       "    .dataframe thead th {\n",
       "        text-align: right;\n",
       "    }\n",
       "</style>\n",
       "<table border=\"1\" class=\"dataframe\">\n",
       "  <thead>\n",
       "    <tr style=\"text-align: right;\">\n",
       "      <th></th>\n",
       "      <th>CALENDAR_ID</th>\n",
       "      <th>SERVICE_ABBR</th>\n",
       "      <th>ADHERENCE_ID</th>\n",
       "      <th>DATE</th>\n",
       "      <th>ROUTE_ABBR</th>\n",
       "      <th>BLOCK_ABBR</th>\n",
       "      <th>OPERATOR</th>\n",
       "      <th>TRIP_ID</th>\n",
       "      <th>OVERLOAD_ID</th>\n",
       "      <th>ROUTE_DIRECTION_NAME</th>\n",
       "      <th>...</th>\n",
       "      <th>primary_wave_height</th>\n",
       "      <th>primary_swell_period</th>\n",
       "      <th>primary_swell_height</th>\n",
       "      <th>primary_swell_direction</th>\n",
       "      <th>secondary_swell_period</th>\n",
       "      <th>secondary_swell_height</th>\n",
       "      <th>secondary_swell_direction</th>\n",
       "      <th>DEV_PERCENT</th>\n",
       "      <th>BUNCH_GAP</th>\n",
       "      <th>FREEZING_NOT_FREEZING</th>\n",
       "    </tr>\n",
       "  </thead>\n",
       "  <tbody>\n",
       "    <tr>\n",
       "      <th>58929</th>\n",
       "      <td>120211111</td>\n",
       "      <td>1</td>\n",
       "      <td>76887149</td>\n",
       "      <td>2021-11-11</td>\n",
       "      <td>22</td>\n",
       "      <td>2200</td>\n",
       "      <td>1194</td>\n",
       "      <td>298154</td>\n",
       "      <td>0</td>\n",
       "      <td>FROM DOWNTOWN</td>\n",
       "      <td>...</td>\n",
       "      <td>NaN</td>\n",
       "      <td>NaN</td>\n",
       "      <td>NaN</td>\n",
       "      <td>NaN</td>\n",
       "      <td>NaN</td>\n",
       "      <td>NaN</td>\n",
       "      <td>NaN</td>\n",
       "      <td>3.466664</td>\n",
       "      <td>On Time</td>\n",
       "      <td>Above Freezing</td>\n",
       "    </tr>\n",
       "    <tr>\n",
       "      <th>58932</th>\n",
       "      <td>120211111</td>\n",
       "      <td>1</td>\n",
       "      <td>76887150</td>\n",
       "      <td>2021-11-11</td>\n",
       "      <td>22</td>\n",
       "      <td>2200</td>\n",
       "      <td>1194</td>\n",
       "      <td>298154</td>\n",
       "      <td>0</td>\n",
       "      <td>FROM DOWNTOWN</td>\n",
       "      <td>...</td>\n",
       "      <td>NaN</td>\n",
       "      <td>NaN</td>\n",
       "      <td>NaN</td>\n",
       "      <td>NaN</td>\n",
       "      <td>NaN</td>\n",
       "      <td>NaN</td>\n",
       "      <td>NaN</td>\n",
       "      <td>-66.969700</td>\n",
       "      <td>Bunched</td>\n",
       "      <td>Above Freezing</td>\n",
       "    </tr>\n",
       "    <tr>\n",
       "      <th>58938</th>\n",
       "      <td>120211111</td>\n",
       "      <td>1</td>\n",
       "      <td>76887152</td>\n",
       "      <td>2021-11-11</td>\n",
       "      <td>22</td>\n",
       "      <td>2200</td>\n",
       "      <td>1194</td>\n",
       "      <td>298133</td>\n",
       "      <td>0</td>\n",
       "      <td>TO DOWNTOWN</td>\n",
       "      <td>...</td>\n",
       "      <td>NaN</td>\n",
       "      <td>NaN</td>\n",
       "      <td>NaN</td>\n",
       "      <td>NaN</td>\n",
       "      <td>NaN</td>\n",
       "      <td>NaN</td>\n",
       "      <td>NaN</td>\n",
       "      <td>-7.666668</td>\n",
       "      <td>On Time</td>\n",
       "      <td>Above Freezing</td>\n",
       "    </tr>\n",
       "    <tr>\n",
       "      <th>58941</th>\n",
       "      <td>120211111</td>\n",
       "      <td>1</td>\n",
       "      <td>76887153</td>\n",
       "      <td>2021-11-11</td>\n",
       "      <td>22</td>\n",
       "      <td>2200</td>\n",
       "      <td>1194</td>\n",
       "      <td>298133</td>\n",
       "      <td>0</td>\n",
       "      <td>TO DOWNTOWN</td>\n",
       "      <td>...</td>\n",
       "      <td>NaN</td>\n",
       "      <td>NaN</td>\n",
       "      <td>NaN</td>\n",
       "      <td>NaN</td>\n",
       "      <td>NaN</td>\n",
       "      <td>NaN</td>\n",
       "      <td>NaN</td>\n",
       "      <td>-45.666670</td>\n",
       "      <td>On Time</td>\n",
       "      <td>Above Freezing</td>\n",
       "    </tr>\n",
       "    <tr>\n",
       "      <th>58947</th>\n",
       "      <td>120211111</td>\n",
       "      <td>1</td>\n",
       "      <td>76887155</td>\n",
       "      <td>2021-11-11</td>\n",
       "      <td>22</td>\n",
       "      <td>2200</td>\n",
       "      <td>1194</td>\n",
       "      <td>298159</td>\n",
       "      <td>0</td>\n",
       "      <td>FROM DOWNTOWN</td>\n",
       "      <td>...</td>\n",
       "      <td>NaN</td>\n",
       "      <td>NaN</td>\n",
       "      <td>NaN</td>\n",
       "      <td>NaN</td>\n",
       "      <td>NaN</td>\n",
       "      <td>NaN</td>\n",
       "      <td>NaN</td>\n",
       "      <td>2.000000</td>\n",
       "      <td>On Time</td>\n",
       "      <td>Above Freezing</td>\n",
       "    </tr>\n",
       "  </tbody>\n",
       "</table>\n",
       "<p>5 rows × 81 columns</p>\n",
       "</div>"
      ],
      "text/plain": [
       "       CALENDAR_ID  SERVICE_ABBR  ADHERENCE_ID        DATE  ROUTE_ABBR  \\\n",
       "58929    120211111             1      76887149  2021-11-11          22   \n",
       "58932    120211111             1      76887150  2021-11-11          22   \n",
       "58938    120211111             1      76887152  2021-11-11          22   \n",
       "58941    120211111             1      76887153  2021-11-11          22   \n",
       "58947    120211111             1      76887155  2021-11-11          22   \n",
       "\n",
       "       BLOCK_ABBR  OPERATOR  TRIP_ID  OVERLOAD_ID ROUTE_DIRECTION_NAME  ...  \\\n",
       "58929        2200      1194   298154            0        FROM DOWNTOWN  ...   \n",
       "58932        2200      1194   298154            0        FROM DOWNTOWN  ...   \n",
       "58938        2200      1194   298133            0          TO DOWNTOWN  ...   \n",
       "58941        2200      1194   298133            0          TO DOWNTOWN  ...   \n",
       "58947        2200      1194   298159            0        FROM DOWNTOWN  ...   \n",
       "\n",
       "      primary_wave_height  primary_swell_period  primary_swell_height  \\\n",
       "58929                 NaN                   NaN                   NaN   \n",
       "58932                 NaN                   NaN                   NaN   \n",
       "58938                 NaN                   NaN                   NaN   \n",
       "58941                 NaN                   NaN                   NaN   \n",
       "58947                 NaN                   NaN                   NaN   \n",
       "\n",
       "       primary_swell_direction  secondary_swell_period secondary_swell_height  \\\n",
       "58929                      NaN                     NaN                    NaN   \n",
       "58932                      NaN                     NaN                    NaN   \n",
       "58938                      NaN                     NaN                    NaN   \n",
       "58941                      NaN                     NaN                    NaN   \n",
       "58947                      NaN                     NaN                    NaN   \n",
       "\n",
       "      secondary_swell_direction DEV_PERCENT  BUNCH_GAP  FREEZING_NOT_FREEZING  \n",
       "58929                       NaN    3.466664    On Time         Above Freezing  \n",
       "58932                       NaN  -66.969700    Bunched         Above Freezing  \n",
       "58938                       NaN   -7.666668    On Time         Above Freezing  \n",
       "58941                       NaN  -45.666670    On Time         Above Freezing  \n",
       "58947                       NaN    2.000000    On Time         Above Freezing  \n",
       "\n",
       "[5 rows x 81 columns]"
      ]
     },
     "execution_count": 16,
     "metadata": {},
     "output_type": "execute_result"
    }
   ],
   "source": [
    "raining.head()"
   ]
  },
  {
   "cell_type": "code",
   "execution_count": 53,
   "id": "ede2b044",
   "metadata": {
    "scrolled": true
   },
   "outputs": [
    {
     "data": {
      "text/plain": [
       "<AxesSubplot:xlabel='ADHERENCE_ID', ylabel='FREEZING_NOT_FREEZING'>"
      ]
     },
     "execution_count": 53,
     "metadata": {},
     "output_type": "execute_result"
    },
    {
     "data": {
      "image/png": "[encoded data removed]",
      "text/plain": [
       "<Figure size 576x396 with 1 Axes>"
      ]
     },
     "metadata": {},
     "output_type": "display_data"
    }
   ],
   "source": [
    "sns.barplot(x='ADHERENCE_ID', y='FREEZING_NOT_FREEZING', hue='BUNCH_GAP', data=raining) \n"
   ]
  },
  {
   "cell_type": "code",
   "execution_count": 19,
   "id": "dc5ff304",
   "metadata": {},
   "outputs": [
    {
     "data": {
      "image/png": "[encoded data removed]",
      "text/plain": [
       "<Figure size 432x288 with 1 Axes>"
      ]
     },
     "metadata": {},
     "output_type": "display_data"
    }
   ],
   "source": [
    "df = raining\n",
    "sns.set_style('darkgrid')\n",
    "sns.set_palette('Paired')\n",
    "sns.barplot(data=df, x='TRIP_ID', y='FREEZING_NOT_FREEZING', hue='BUNCH_GAP')\n",
    "plt.title('Freezing rain vs rain')\n",
    "plt.xlabel('freezing')\n",
    "plt.ylabel('bunched or gapped')\n",
    "sns.despine()\n",
    "plt.show()"
   ]
  },
  {
   "cell_type": "code",
   "execution_count": null,
   "id": "90203611",
   "metadata": {},
   "outputs": [],
   "source": [
    "df = sns.load_dataset('titanic')\n",
    "sns.set_style('darkgrid')\n",
    "sns.set_palette('Set2')\n",
    "sns.countplot(data=df, x=\"class\", hue='sex')\n",
    "plt.title('Number of passengers, by class')\n",
    "plt.xlabel('Class')\n",
    "plt.ylabel('# of Passengers')\n",
    "sns.despine()\n",
    "plt.show()"
   ]
  },
  {
   "cell_type": "code",
   "execution_count": null,
   "id": "7fd294cb",
   "metadata": {},
   "outputs": [],
   "source": [
    "# part_b.groupby(['Exit Reason','Init. Elig. Category']).size().unstack().plot(kind='barh', xlabel=\"Eligibility Category\", \n",
    "   # title='Distribution of Eligibility Categories for Kids Who Age Out')"
   ]
  },
  {
   "cell_type": "code",
   "execution_count": 24,
   "id": "c5ffbfac",
   "metadata": {},
   "outputs": [
    {
     "data": {
      "text/plain": [
       "<AxesSubplot:title={'center':'FREEZING RAIN VS RAIN'}, ylabel='FREEZING_NOT_FREEZING'>"
      ]
     },
     "execution_count": 24,
     "metadata": {},
     "output_type": "execute_result"
    },
    {
     "data": {
      "image/png": "[encoded data removed]",
      "text/plain": [
       "<Figure size 432x288 with 1 Axes>"
      ]
     },
     "metadata": {},
     "output_type": "display_data"
    }
   ],
   "source": [
    "raining.groupby(['FREEZING_NOT_FREEZING', 'BUNCH_GAP']).size().unstack().plot(kind='barh', title='FREEZING RAIN VS RAIN')"
   ]
  },
  {
   "cell_type": "code",
   "execution_count": null,
   "id": "2f94c17f",
   "metadata": {},
   "outputs": [],
   "source": [
    "raining.head()"
   ]
  },
  {
   "cell_type": "code",
   "execution_count": 22,
   "id": "5fb3e970",
   "metadata": {},
   "outputs": [
    {
     "data": {
      "text/plain": [
       "Above Freezing          67865\n",
       "At or Below Freezing     2291\n",
       "Name: FREEZING_NOT_FREEZING, dtype: int64"
      ]
     },
     "execution_count": 22,
     "metadata": {},
     "output_type": "execute_result"
    }
   ],
   "source": [
    "raining['FREEZING_NOT_FREEZING'].value_counts()"
   ]
  },
  {
   "cell_type": "code",
   "execution_count": 49,
   "id": "2646061a",
   "metadata": {},
   "outputs": [
    {
     "data": {
      "image/png": "[encoded data removed]",
      "text/plain": [
       "<Figure size 792x792 with 1 Axes>"
      ]
     },
     "metadata": {},
     "output_type": "display_data"
    }
   ],
   "source": [
    "plt.figure(figsize=(11,11))\n",
    "p = sns.barplot(x='FREEZING_NOT_FREEZING',\n",
    "           y='TRIP_ID',\n",
    "           hue= 'BUNCH_GAP',\n",
    "            palette='Paired',    \n",
    "           data = raining.reset_index())\n",
    "for i in p.containers:\n",
    "    p.bar_label(i,)"
   ]
  },
  {
   "cell_type": "code",
   "execution_count": null,
   "id": "93ad18af",
   "metadata": {},
   "outputs": [],
   "source": []
  },
  {
   "cell_type": "code",
   "execution_count": null,
   "id": "08cd6b04",
   "metadata": {},
   "outputs": [],
   "source": []
  },
  {
   "cell_type": "code",
   "execution_count": null,
   "id": "97db7f7b",
   "metadata": {},
   "outputs": [],
   "source": []
  },
  {
   "cell_type": "markdown",
   "id": "9989e2e6",
   "metadata": {},
   "source": [
    "Dropping nulls in dev_percent column\n",
    "\n",
    "On Time    1350769\n",
    "Gapped       86564\n",
    "Bunched      70014\n",
    "\n",
    "Dropping nulls in scheduled headway column:\n",
    "\n",
    "On Time    1392843\n",
    "Gapped       86564\n",
    "Bunched      70014\n",
    "\n",
    "On Time    1350769\n",
    "Gapped       86564\n",
    "Bunched      70014\n",
    "\n",
    "Without dropping nulls:\n",
    "\n",
    "On Time    1825137\n",
    "Gapped       86564\n",
    "Bunched      70014\n"
   ]
  },
  {
   "cell_type": "code",
   "execution_count": 34,
   "id": "6be69379",
   "metadata": {},
   "outputs": [
    {
     "data": {
      "image/png": "[encoded data removed]",
      "text/plain": [
       "<Figure size 576x396 with 1 Axes>"
      ]
     },
     "metadata": {},
     "output_type": "display_data"
    }
   ],
   "source": [
    "raining['BUNCH_GAP'].value_counts().plot(kind='bar');\n",
    "plt.style.use('seaborn')"
   ]
  },
  {
   "cell_type": "code",
   "execution_count": 35,
   "id": "38ec0aef",
   "metadata": {},
   "outputs": [
    {
     "data": {
      "image/png": "[encoded data removed]",
      "text/plain": [
       "<Figure size 576x396 with 1 Axes>"
      ]
     },
     "metadata": {},
     "output_type": "display_data"
    }
   ],
   "source": [
    "raining['FREEZING_NOT_FREEZING'].value_counts().plot(kind='bar');"
   ]
  },
  {
   "cell_type": "code",
   "execution_count": null,
   "id": "015efcf6",
   "metadata": {},
   "outputs": [],
   "source": [
    "above_freezing['temp'].value_counts().plot(kind='hist');"
   ]
  },
  {
   "cell_type": "code",
   "execution_count": null,
   "id": "c46dac8b",
   "metadata": {},
   "outputs": [],
   "source": []
  },
  {
   "cell_type": "code",
   "execution_count": 42,
   "id": "2214bdc4",
   "metadata": {},
   "outputs": [
    {
     "data": {
      "image/png": "[encoded data removed]",
      "text/plain": [
       "<Figure size 576x396 with 1 Axes>"
      ]
     },
     "metadata": {},
     "output_type": "display_data"
    }
   ],
   "source": [
    "a =sns.barplot(x=raining.FREEZING_NOT_FREEZING.value_counts(), y=raining.BUNCH_GAP.value_counts(), palette='Paired')\n",
    "\n"
   ]
  },
  {
   "cell_type": "code",
   "execution_count": 45,
   "id": "cab3faf6",
   "metadata": {},
   "outputs": [],
   "source": [
    "# kayla's code\n",
    "\n",
    "# plt.figure(figsize=(11,11))\n",
    "# p = sns.barplot(x='IS_SNOWING',\n",
    "#            y='TRIP_ID',\n",
    "#            hue= 'GAPPED_OR_BUNCHED',\n",
    "#             palette='Paired',    \n",
    "#            data = snow_vs_nosnow.reset_index())\n",
    "# for i in p.containers:\n",
    "#     p.bar_label(i,)\n",
    "# plt.xlabel('Snow Status')\n",
    "# plt.ylabel('% of Total')\n",
    "# plt.title('Snow vs. Headway Deviation')\n"
   ]
  },
  {
   "cell_type": "code",
   "execution_count": 46,
   "id": "09e4fb81",
   "metadata": {},
   "outputs": [
    {
     "data": {
      "image/png": "[encoded data removed]",
      "text/plain": [
       "<Figure size 576x396 with 1 Axes>"
      ]
     },
     "metadata": {},
     "output_type": "display_data"
    }
   ],
   "source": [
    "# plt.hist(df_2014['Internet_Users_Pct'], bins=8)\n",
    "\n",
    "\n",
    "plt.hist(merge_df['temp'], bins=6)\n",
    "plt.show()"
   ]
  },
  {
   "cell_type": "code",
   "execution_count": 47,
   "id": "72929964",
   "metadata": {},
   "outputs": [
    {
     "data": {
      "image/png": "[encoded data removed]",
      "text/plain": [
       "<Figure size 576x396 with 1 Axes>"
      ]
     },
     "metadata": {},
     "output_type": "display_data"
    }
   ],
   "source": [
    "\n",
    "plt.plot(merge_df['temp'])\n",
    "plt.show()"
   ]
  },
  {
   "cell_type": "code",
   "execution_count": 48,
   "id": "efa66ae4",
   "metadata": {},
   "outputs": [
    {
     "data": {
      "text/plain": [
       "<AxesSubplot:>"
      ]
     },
     "execution_count": 48,
     "metadata": {},
     "output_type": "execute_result"
    },
    {
     "data": {
      "image/png": "[encoded data removed]",
      "text/plain": [
       "<Figure size 576x396 with 1 Axes>"
      ]
     },
     "metadata": {},
     "output_type": "display_data"
    }
   ],
   "source": [
    "merge_df['temp'].value_counts().plot(kind='barh')"
   ]
  },
  {
   "cell_type": "markdown",
   "id": "bdb69622",
   "metadata": {},
   "source": [
    "The Official WeGo Style Guide of Styles\n",
    "Chart palette should be 'Paired' (seaborn palette code = 'Paired')\n",
    "Standard font\n",
    "Follow normal capitalization rules for chart labels\n",
    "Make sure charts used for comparisons have uniform axiis (ie. charts dealing with percentages should be 0-100)\n",
    "Order labels appropriately  (months, days, time, etc). Weekdays should be in order starting with Monday\n",
    "Color Congruency (if a year or route is one color in one slide, it should be the same color in another slide)\n",
    "When adding charts to slides, be sure that they don't appear to be stretched. (Shift+Click when resizing, or set size in Jupyter Notebook)\n",
    "Google slide deck to add your slides here:\n",
    "https://docs.google.com/presentation/d/1amjAIDhoRR63oJNMUm9oM2Uf799NaOMkCXslJ8nAex0/edit?usp=sharing (edited) "
   ]
  }
 ],
 "metadata": {
  "kernelspec": {
   "display_name": "Python 3 (ipykernel)",
   "language": "python",
   "name": "python3"
  },
  "language_info": {
   "codemirror_mode": {
    "name": "ipython",
    "version": 3
   },
   "file_extension": ".py",
   "mimetype": "text/x-python",
   "name": "python",
   "nbconvert_exporter": "python",
   "pygments_lexer": "ipython3",
   "version": "3.9.12"
  }
 },
 "nbformat": 4,
 "nbformat_minor": 5
}
