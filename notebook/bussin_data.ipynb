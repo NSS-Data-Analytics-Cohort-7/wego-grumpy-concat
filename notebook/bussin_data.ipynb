{
 "cells": [
  {
   "cell_type": "code",
   "execution_count": null,
   "id": "dc86b6a8",
   "metadata": {},
   "outputs": [],
   "source": [
    "import pandas as pd"
   ]
  },
  {
   "cell_type": "code",
   "execution_count": null,
   "id": "f3980822",
   "metadata": {},
   "outputs": [],
   "source": [
    "headway_data = pd.read_csv(\"../data/Headway Data.csv\")\n",
    "headway_data"
   ]
  },
  {
   "cell_type": "code",
   "execution_count": null,
   "id": "c4c100a9",
   "metadata": {},
   "outputs": [],
   "source": [
    "bna_weather = pd.read_csv(\"../data/bna_weather.csv\")\n",
    "bna_weather"
   ]
  },
  {
   "cell_type": "code",
   "execution_count": null,
   "id": "7336f5f0",
   "metadata": {},
   "outputs": [],
   "source": [
    "headway_data.keys()"
   ]
  },
  {
   "cell_type": "code",
   "execution_count": null,
   "id": "5b805f2a",
   "metadata": {},
   "outputs": [],
   "source": [
    "hwdata1 = headway_data[['ADHERENCE_ID', 'DATE', 'ROUTE_ABBR',\n",
    "       'BLOCK_ABBR', 'OPERATOR', 'TRIP_ID', 'OVERLOAD_ID',\n",
    "       'ROUTE_DIRECTION_NAME', 'TIME_POINT_ABBR', 'ROUTE_STOP_SEQUENCE',\n",
    "       'TRIP_EDGE', 'SCHEDULED_TIME','ACTUAL_ARRIVAL_TIME', 'ACTUAL_DEPARTURE_TIME', 'ADHERENCE',\n",
    "       'SCHEDULED_HDWY', 'ACTUAL_HDWY', 'HDWY_DEV', 'ADJUSTED_EARLY_COUNT',\n",
    "       'ADJUSTED_LATE_COUNT', 'ADJUSTED_ONTIME_COUNT']]"
   ]
  },
  {
   "cell_type": "code",
   "execution_count": null,
   "id": "40732e1d",
   "metadata": {},
   "outputs": [],
   "source": [
    "gapping = headway_data[headway_data['HDWY_DEV'] > 0]\n",
    "gapping"
   ]
  },
  {
   "cell_type": "code",
   "execution_count": null,
   "id": "24b687a7",
   "metadata": {},
   "outputs": [],
   "source": [
    "bunching = headway_data[headway_data['HDWY_DEV'] < 0]\n",
    "bunching"
   ]
  },
  {
   "cell_type": "code",
   "execution_count": null,
   "id": "ac039228",
   "metadata": {},
   "outputs": [],
   "source": [
    "a = headway_data.loc[(headway_data['CALENDAR_ID'] == 120211101) & (headway_data['ROUTE_ABBR'] == 7)]"
   ]
  },
  {
   "cell_type": "code",
   "execution_count": null,
   "id": "c794bb12",
   "metadata": {},
   "outputs": [],
   "source": [
    "a"
   ]
  },
  {
   "cell_type": "code",
   "execution_count": null,
   "id": "8311bfb9",
   "metadata": {},
   "outputs": [],
   "source": [
    "b = headway_data[(headway_data['TRIP_ID'] ==297750) & (headway_data['OPERATOR'] == 2088)]\n",
    "b                           "
   ]
  },
  {
   "cell_type": "code",
   "execution_count": null,
   "id": "e3d4ef99",
   "metadata": {},
   "outputs": [],
   "source": [
    "hwdata1[(hwdata1['DATE'] == '2021-11-01') & \n",
    "(hwdata1['ROUTE_DIRECTION_NAME'] == 'TO DOWNTOWN') &\n",
    "(hwdata1['OPERATOR'] == 2088) &\n",
    "(hwdata1['ROUTE_ABBR'] == 52)]"
   ]
  },
  {
   "cell_type": "code",
   "execution_count": null,
   "id": "7660de40",
   "metadata": {},
   "outputs": [],
   "source": []
  }
 ],
 "metadata": {
  "kernelspec": {
   "display_name": "Python 3 (ipykernel)",
   "language": "python",
   "name": "python3"
  },
  "language_info": {
   "codemirror_mode": {
    "name": "ipython",
    "version": 3
   },
   "file_extension": ".py",
   "mimetype": "text/x-python",
   "name": "python",
   "nbconvert_exporter": "python",
   "pygments_lexer": "ipython3",
   "version": "3.9.12"
  }
 },
 "nbformat": 4,
 "nbformat_minor": 5
}
